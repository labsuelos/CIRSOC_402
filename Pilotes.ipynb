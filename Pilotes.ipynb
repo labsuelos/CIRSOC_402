{
 "cells": [
  {
   "cell_type": "markdown",
   "id": "1a9855ea",
   "metadata": {},
   "source": [
    "# Propuesta de procedimiento de diseño de pilotes con carga axial de compresión\n",
    "\n",
    "### A.O. Sfriso, P. M. Fernández, J. Manduca, M. Biedma, P. M. Barbieri\n",
    "#### Facultad de Ingeniería de la Universidad de Buenos Aires (2021)"
   ]
  },
  {
   "cell_type": "code",
   "execution_count": 27,
   "id": "70914cc3",
   "metadata": {},
   "outputs": [],
   "source": [
    "#Librerias\n",
    "import numpy as np\n",
    "import matplotlib.pyplot as plt\n",
    "from matplotlib.pyplot import figure"
   ]
  },
  {
   "cell_type": "markdown",
   "id": "0df6625c",
   "metadata": {},
   "source": [
    "### Contribución de la punta"
   ]
  },
  {
   "cell_type": "code",
   "execution_count": 28,
   "id": "471d6e0b",
   "metadata": {},
   "outputs": [],
   "source": [
    "#Capacidad de carga\n",
    "#Expresión de Brinch - Hansen\n",
    "def qup_BH(L, D, sigma_eff_vert, c_k, phi_k):\n",
    "    Nq = (np.exp(np.pi * np.tan(np.radians(phi_k)))) * ((np.tan(0.25 * np.pi + 0.5 * np.radians(phi_k)) ** 2))\n",
    "    Nc = (Nq - 1) * (1 / np.tan(np.radians(phi_k)))\n",
    "    \n",
    "    sc = 1 + (Nq / Nc)\n",
    "    dc = 1 + 0.40 * (1 / np.tan(np.radians(L/D)))\n",
    "    \n",
    "    qup_BH = (c_k * Nc + sigma_eff_vert * Nq) * sc * dc\n",
    "    \n",
    "    return qup_BH\n",
    "    \n",
    "    \n",
    "#Expresión de Vesic\n",
    "def qup_V(sigma_eff_vert, K0, G, c_k, phi_k): \n",
    "    p = sigma_eff_vert * (1 + 2 * K0) / 3\n",
    "    Ir = G / (c_k + p * np.tan(np.radians(phi_k)))\n",
    "    epsilon_v = 50 * (Ir ** (-1.80)) #Yasufuku 2001\n",
    "    Irr = Ir / (1 + epsilon_v * Ir)\n",
    "        \n",
    "    c1 = (3 / (3 - np.sin(np.radians(phi_k)))) * (np.e ** ((0.5 * np.pi - np.radians(phi_k)) * np.tan(np.radians(phi_k))))\n",
    "    c3 = (4/3) * (np.sin(np.radians(phi_k)) / (1 + np.sin(np.radians(phi_k))))\n",
    "    \n",
    "    N_sigma = c1 * ((np.tan(0.25 * np.pi + 0.5 * np.radians(phi_k))) ** 2) * (Irr ** c3)\n",
    "    Nc = (1 / np.tan(np.radians(phi_k))) * (((1 + 2 * K0) / 3) * N_sigma - 1)\n",
    "    \n",
    "    qup_V = c_k * Nc + p * N_sigma\n",
    "    \n",
    "    return qup_V\n",
    "    \n",
    "#Carga ultima por la punta\n",
    "def qup(L, D, sigma_eff_vert, K0, G, c_k, phi_k):\n",
    "    sigma_eff = sigma_eff_vert\n",
    "    for i in range(10):\n",
    "        qup = np.minimum(qup_BH(L, D, sigma_eff_vert, c_k, phi_k), qup_V(sigma_eff_vert, K0, G, c_k, phi_k))\n",
    "        sigma_eff = qup\n",
    "    return qup"
   ]
  },
  {
   "cell_type": "code",
   "execution_count": 29,
   "id": "38cb29b3",
   "metadata": {},
   "outputs": [],
   "source": [
    "#Comportamiento p-d (Punta)\n",
    "def Pp(desp, L, D, sigma_eff_vert, K0, G, nu, c_k, phi_k):\n",
    "    Rf = 0.99 #Relación de falla\n",
    "    F = np.pi * (D**2) / 4\n",
    "    Kp = np.pi * G * D/(1 - nu)\n",
    "    Pp = desp / (1/Kp + Rf * desp / (F * qup(L, D, sigma_eff_vert, K0, G, c_k, phi_k)))\n",
    "    return Pp"
   ]
  },
  {
   "cell_type": "markdown",
   "id": "d7122e55",
   "metadata": {},
   "source": [
    "### Contribución del fuste"
   ]
  },
  {
   "cell_type": "code",
   "execution_count": 30,
   "id": "2a98bb21",
   "metadata": {},
   "outputs": [],
   "source": [
    "#Carga ultima por el fuste\n",
    "def Qf(L, D, K, NF, gamma_w, gamma_sat, G, c, phi_cv, v, psi):\n",
    "    n = 10 #Discretización del pilote\n",
    "    z = 0 #Cota de la cabeza del pilote\n",
    "    Qf = 0 #Inicializacion de la capacidad de carga por fuste\n",
    "    \n",
    "    for i in range(n):\n",
    "        dz = L / n\n",
    "        z = z + dz\n",
    "        if z < NF:\n",
    "            sigma_eff_v = z * gamma_sat\n",
    "        else:\n",
    "            sigma_eff_v = NF * gamma_sat + (z - NF) * (gamma_sat - gamma_w)\n",
    "        \n",
    "        delta_sigma_h = np.tan(np.radians(psi)) * v * G / (0.5 * D) \n",
    "        sigma_h_f = K * sigma_eff_v + delta_sigma_h\n",
    "        fi = sigma_h_f * np.sin(np.radians(phi_cv))\n",
    "        Qfi = fi * np.pi * D * dz\n",
    "        Qf = Qf + Qfi\n",
    "        \n",
    "    return Qf"
   ]
  },
  {
   "cell_type": "code",
   "execution_count": 31,
   "id": "b51ebae3",
   "metadata": {},
   "outputs": [],
   "source": [
    "#Comportamiento p-d (Fuste)\n",
    "def Pf(desp, L, D, K, NF, gamma_w, gamma_sat, G, c, phi_cv, v, psi):\n",
    "    Rf = 0.90 #Relación de falla\n",
    "    rm = 1.5 * L\n",
    "    Kf = G * L * np.pi * D / (np.log(rm / (0.5 * D))) \n",
    "    Pf = desp / (1/Kf + Rf * desp / (Qf(L, D, K, NF, gamma_w, gamma_sat, G, c, phi_cv, v, psi)))\n",
    "    return Pf"
   ]
  },
  {
   "cell_type": "markdown",
   "id": "17aa567d",
   "metadata": {},
   "source": [
    "### Resultados"
   ]
  },
  {
   "cell_type": "code",
   "execution_count": 35,
   "id": "a517e8cc",
   "metadata": {},
   "outputs": [
    {
     "data": {
      "image/png": "[encoded data removed]",
      "text/plain": [
       "<Figure size 800x480 with 1 Axes>"
      ]
     },
     "metadata": {
      "needs_background": "light"
     },
     "output_type": "display_data"
    }
   ],
   "source": [
    "#Datos\n",
    "L = 10 #Longitud del pilote en (m)\n",
    "D = 1 # Diametro del pilote en (m)\n",
    "gamma_sat = 20 #Peso especifico del suelo saturado en (kN/m3)\n",
    "gamma_w = 10 #Peso especifico del agua en (kN/m3)\n",
    "sigma_eff_vert = 200 #Tension efectiva vertical en la punta en (kPa)\n",
    "NF = 30 #Profundidad del nivel freatico en (m)\n",
    "K0 = 0.50 #Coeficiente de empuje en reposo\n",
    "K = 1 #Coeficiente de empuje horizontal para el calculo de fricción\n",
    "G = 90000 #Modulo de rigidez al corte en (kPa)\n",
    "nu = 0.20 #Coeficiente de Poisson\n",
    "c_k = 5 #Cohesion efectiva caracteristica en (kPa)\n",
    "phi_k = 30 #Angulo de fricción en reposo caracteristico en (deg)\n",
    "psi = 3 #Angulo de dilatancia en (deg)\n",
    "\n",
    "#Inicializacion de variables\n",
    "desp = np.linspace(0, 1, 1000)\n",
    "P = np.zeros(np.size(desp))\n",
    "\n",
    "#Curva P-d (Punta)\n",
    "for i in range(np.size(desp)):\n",
    "    P = Pp(desp, L, D, sigma_eff_vert, K0, G, nu, c_k, phi_k)\n",
    "\n",
    "#Curva P-d (Fuste)\n",
    "for i in range(np.size(desp)):\n",
    "    F = Pf(desp, L, D, K, NF, gamma_w, gamma_sat, G, c_k, phi_k, 0.025, psi)\n",
    "\n",
    "#Ploteo\n",
    "figure(figsize=(10, 6), dpi=80)\n",
    "\n",
    "plt.plot(desp, P, label = 'Punta', color = 'grey', linestyle = '-')\n",
    "plt.plot(desp, F, label = 'Fuste', color = 'grey', linestyle = '--')\n",
    "plt.plot(desp, P + F, label = 'Total', color = 'black', linestyle = '-', linewidth = 2)\n",
    "plt.xlabel('$\\delta\\;(m)$')\n",
    "plt.ylabel('P [kN]')\n",
    "plt.grid()\n",
    "plt.xlim(0, 0.5)\n",
    "plt.legend();"
   ]
  },
  {
   "cell_type": "code",
   "execution_count": null,
   "id": "86b5cf91",
   "metadata": {},
   "outputs": [],
   "source": []
  },
  {
   "cell_type": "code",
   "execution_count": null,
   "id": "35149e16",
   "metadata": {},
   "outputs": [],
   "source": []
  }
 ],
 "metadata": {
  "kernelspec": {
   "display_name": "Python 3",
   "language": "python",
   "name": "python3"
  },
  "language_info": {
   "codemirror_mode": {
    "name": "ipython",
    "version": 3
   },
   "file_extension": ".py",
   "mimetype": "text/x-python",
   "name": "python",
   "nbconvert_exporter": "python",
   "pygments_lexer": "ipython3",
   "version": "3.8.8"
  }
 },
 "nbformat": 4,
 "nbformat_minor": 5
}
