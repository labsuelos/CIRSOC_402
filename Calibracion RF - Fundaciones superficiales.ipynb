{
 "cells": [
  {
   "cell_type": "markdown",
   "metadata": {},
   "source": [
    "# Calibración de factores de minoración LRFD para fundaciones superficiales\n",
    "\n",
    "### P. M. Fernández, A.O. Sfriso, J. Manduca, M. Biedma, P. M. Barbieri\n",
    "#### Facultad de Ingeniería de la Universidad de Buenos Aires (2021)"
   ]
  },
  {
   "cell_type": "markdown",
   "metadata": {},
   "source": [
    "## Librerias"
   ]
  },
  {
   "cell_type": "code",
   "execution_count": 11,
   "metadata": {},
   "outputs": [],
   "source": [
    "import numpy as np\n",
    "import pandas as pd\n",
    "import matplotlib.pyplot as plt\n",
    "from IPython.display import Image\n",
    "from scipy import stats\n",
    "from scipy.stats import kstest\n",
    "from scipy.stats import norm\n",
    "from scipy.stats import lognorm\n",
    "from scipy.stats import beta\n",
    "#import seaborn as sns\n",
    "\n",
    "#Shapes: 1 (Rectangular) | 2 (Circular) | 3 (Strip)\n",
    "#Methods: 1 (Vesic 1975) | 2 (Hansen 1970) | 3 (Eurocode 7 2004) | 4 (Meyerhof 1963)"
   ]
  },
  {
   "cell_type": "markdown",
   "metadata": {},
   "source": [
    "## Constantes"
   ]
  },
  {
   "cell_type": "code",
   "execution_count": 12,
   "metadata": {},
   "outputs": [],
   "source": [
    "#LANGUAGE = 'EN'\n",
    "LANGUAGE = 'ES'"
   ]
  },
  {
   "cell_type": "markdown",
   "metadata": {},
   "source": [
    "## Función de capacidad de carga"
   ]
  },
  {
   "cell_type": "markdown",
   "metadata": {},
   "source": [
    "### Funciones de capacidad de carga"
   ]
  },
  {
   "cell_type": "code",
   "execution_count": 13,
   "metadata": {
    "code_folding": [
     0,
     5,
     12
    ]
   },
   "outputs": [],
   "source": [
    "def Nq(phi):\n",
    "    phi = np.radians(phi)\n",
    "    Nq = (np.exp(np.pi * np.tan(phi))) * ((np.tan(0.25 * np.pi + 0.5 * phi)) ** 2)\n",
    "    return (Nq)\n",
    "\n",
    "def Nc(phi):\n",
    "    if phi == 0:\n",
    "        Nc = (2 + np.pi)\n",
    "    else:\n",
    "        Nc = (Nq(phi) - 1) * (1 / np.tan(np.radians(phi)))\n",
    "    return(Nc)\n",
    "\n",
    "def Ng(phi, method):\n",
    "    method = method.lower()\n",
    "    if method == 'vesic':\n",
    "        Ng = 2 * (Nq(phi) + 1) * np.tan(np.radians(phi)) #Vesic (1975)\n",
    "    elif method == 'hansen':\n",
    "        Ng = 1.5 * (Nq(phi) - 1) * np.tan(np.radians(phi)) #Hansen (1970)\n",
    "    elif method == 'eurocode 7':\n",
    "        Ng = 2 * (Nq(phi) - 1) * np.tan(np.radians(phi)) #Eurocode 7 (CEN 2004)\n",
    "    elif method == 'meyerhof':\n",
    "        Ng = (Nq(phi) - 1) * np.tan(1.4 * np.radians(phi)) #Meyerhof (1963)\n",
    "    else:\n",
    "        if LANGUAGE == 'EN':\n",
    "            errormsg = \"Unsuported Ng calculation method '{}'. \"\"Suported methods are: 'Vesic', 'Hansen', 'Eurocode 7' and 'Meyerhof'\"\n",
    "        elif LANGUAGE == 'ES':\n",
    "            errormsg = \"Metodo de calculo de Ng '{}' no disponible. Los metodos disponibles son: 'Vesic', 'Hansen', 'Eurocode 7' y 'Meyerhof'\"\n",
    "        raise RuntimeError(errormsg.format(method))\n",
    "    return(Ng)"
   ]
  },
  {
   "cell_type": "markdown",
   "metadata": {},
   "source": [
    "### Factores de forma"
   ]
  },
  {
   "cell_type": "code",
   "execution_count": 14,
   "metadata": {
    "code_folding": [
     22,
     38
    ]
   },
   "outputs": [],
   "source": [
    "def c_cs(shape, phi, B=np.nan, L=np.nan):\n",
    "    shape = shape.lower()\n",
    "    if shape in ['rectangle', 'rectangulo']:\n",
    "        if np.isnan(B) or np.isnan(L):\n",
    "            if LANGUAGE == 'EN':\n",
    "                errormsg = \"B or L values not provided for a rectangular base. Provide this values as key word arguments.\"\n",
    "            elif LANGUAGE == 'ES':\n",
    "                errormsg = \"El valor de B o L no fue provisto para la base rectangular.\"\n",
    "                raise RuntimeError(errormsg)\n",
    "        c_cs = 1 + (B/L) * (Nq(phi) / Nc(phi))\n",
    "    elif shape in ['square', 'cuadrado', 'cuadrada']:\n",
    "        c_cs = 1 + (1) * (Nq(phi) / Nc(phi))\n",
    "    elif shape in ['circular', 'circle', 'circulo', 'circular']:\n",
    "        c_cs = 1 + (0) * (Nq(phi) / Nc(phi))\n",
    "    else:\n",
    "        if LANGUAGE == 'EN':\n",
    "            errormsg = \"Unsuported base shape {}. \"\"Suported shapes are: 'rectangle', 'square' and 'circle'\"\n",
    "        elif LANGUAGE == 'ES':\n",
    "            errormsg = \"Forma de base {} no disponible. Las formas disponibles son: 'rectangulo', 'cuadrado' y 'circulo'\"\n",
    "        raise RuntimeError(errormsg.format(shape))\n",
    "    return(c_cs)\n",
    "\n",
    "def c_qs(shape, phi, B=np.nan, L=np.nan):\n",
    "    shape = shape.lower()\n",
    "    if shape in ['rectangle', 'rectangulo']:\n",
    "        c_qs = 1 + (B/L) * np.tan(np.radians(phi))\n",
    "    elif shape in ['square', 'cuadrado', 'cuadrada']:\n",
    "        c_qs = 1 + (1) * np.tan(np.radians(phi))\n",
    "    elif shape in ['circular', 'circle', 'circulo', 'circular']:\n",
    "        c_qs = 1 + (0) * np.tan(np.radians(phi))\n",
    "    else:\n",
    "        if LANGUAGE == 'EN':\n",
    "            errormsg = \"Unsuported base shape {}. \"\"Suported shapes are: 'rectangle', 'square' and 'circle'\"\n",
    "        elif LANGUAGE == 'ES':\n",
    "            errormsg = \"Forma de base {} no disponible. Las formas disponibles son: 'rectangulo', 'cuadrado' y 'circulo'\"\n",
    "        raise RuntimeError(errormsg.format(shape))  \n",
    "    return(c_qs)\n",
    "\n",
    "def c_gs(shape, B=np.nan, L=np.nan):\n",
    "    shape = shape.lower()\n",
    "    if shape in ['rectangle', 'rectangulo']:\n",
    "        c_gs = 1 - 0.4 * (B/L)\n",
    "    elif shape in ['square', 'cuadrado', 'cuadrada']:\n",
    "        c_gs = 1 - 0.4 * (1)\n",
    "    elif shape in ['circular', 'circle', 'circulo', 'circular']:\n",
    "        c_gs = 1 - 0.4 * (0)\n",
    "    else:\n",
    "        if LANGUAGE == 'EN':\n",
    "            errormsg = \"Unsuported base shape '{}'. \"\"Suported shapes are: 'rectangle', 'square' and 'circle'\"\n",
    "        elif LANGUAGE == 'ES':\n",
    "            errormsg = \"Forma de base '{}' no disponible. Las formas disponibles son: 'rectangulo', 'cuadrado' y 'circulo'\"\n",
    "        raise RuntimeError(errormsg.format(shape))  \n",
    "    return(c_gs)"
   ]
  },
  {
   "cell_type": "markdown",
   "metadata": {},
   "source": [
    "### Factores de profundidad"
   ]
  },
  {
   "cell_type": "code",
   "execution_count": 15,
   "metadata": {
    "code_folding": [
     0,
     4,
     8
    ]
   },
   "outputs": [],
   "source": [
    "def c_qd(D, B, phi):\n",
    "    c_qd = 1 + 2 * np.tan(np.radians(phi)) * ((1 - np.sin(np.radians(phi))) ** 2) * np.arctan(D/B)\n",
    "    return(c_qd)\n",
    "\n",
    "def c_gd(phi):\n",
    "    c_gd = 1\n",
    "    return(c_gd)\n",
    "\n",
    "def c_cd(D, B, phi):\n",
    "    if phi > 0:\n",
    "        c_cd = c_qd(D, B, phi) - ((1 - c_qd(D, B, phi)) / (Nc(phi) * np.tan(np.radians(phi))))\n",
    "    else:\n",
    "        c_cd = 1 + 0.33 * np.arctan(D/B)\n",
    "    return(c_cd)"
   ]
  },
  {
   "cell_type": "markdown",
   "metadata": {},
   "source": [
    "### Capacidad de carga"
   ]
  },
  {
   "cell_type": "code",
   "execution_count": 16,
   "metadata": {},
   "outputs": [],
   "source": [
    "def Bearing_Capacity(gamma_Ng, gamma_Nq, phi, c, B, L, D, q, shape, method):\n",
    "    \n",
    "    qu_c = c * Nc(phi) * c_cs(shape, phi, B=B, L=L) * c_cd(D, B, phi)\n",
    "    qu_p = (q + D * gamma_Nq) * Nq(phi) * c_qs(shape, phi, B=B, L=L) * c_qd(D, B, phi)\n",
    "\n",
    "    if shape == ['rectangle', 'rectangulo']:\n",
    "        qu_g_B = 0.5 * gamma_Ng * B * Ng(phi, method) * c_gs(shape, B=B, L=L) * c_gd(phi)\n",
    "        qu_g_L = 0.5 * gamma_Ng * L * Ng(phi, method) * c_gs(shape, B=B, L=L) * c_gd(phi)\n",
    "        qu = np.minimum(qu_c + qu_p + qu_g_B , qu_c + qu_p + qu_g_L)\n",
    "    else:\n",
    "        qu = qu_c + qu_p + 0.5 * gamma_Ng * B * Ng(phi, method) * c_gs(shape, B=B, L=L) * c_gd(phi)\n",
    "\n",
    "    return(qu)"
   ]
  },
  {
   "cell_type": "code",
   "execution_count": 17,
   "metadata": {},
   "outputs": [],
   "source": [
    "def gamma_q(D, NF, gs):\n",
    "    if NF <= D:\n",
    "        gamma = (gs * NF + (gs - 10) * (D - NF)) / D\n",
    "    else:\n",
    "        gamma = gs\n",
    "    return gamma"
   ]
  },
  {
   "cell_type": "code",
   "execution_count": 18,
   "metadata": {},
   "outputs": [],
   "source": [
    "def gamma_g(B, D, NF, gs):\n",
    "    if NF <= D:\n",
    "        gamma = gs - 10\n",
    "    elif NF > D and NF <= D + 3 * B:\n",
    "        gamma = (gs * (NF - D) + (gs - 10) * (3 * B - NF)) / (3 * B - D)\n",
    "    else:\n",
    "        gamma = gs\n",
    "    return gamma"
   ]
  },
  {
   "cell_type": "markdown",
   "metadata": {},
   "source": [
    "## Base de datos"
   ]
  },
  {
   "cell_type": "code",
   "execution_count": 19,
   "metadata": {},
   "outputs": [
    {
     "ename": "FileNotFoundError",
     "evalue": "[Errno 2] No such file or directory: 'xxxx.txt'",
     "output_type": "error",
     "traceback": [
      "\u001b[1;31m---------------------------------------------------------------------------\u001b[0m",
      "\u001b[1;31mFileNotFoundError\u001b[0m                         Traceback (most recent call last)",
      "\u001b[1;32m<ipython-input-19-07f58498a4eb>\u001b[0m in \u001b[0;36m<module>\u001b[1;34m\u001b[0m\n\u001b[0;32m      1\u001b[0m \u001b[1;31m#Importar base de datos\u001b[0m\u001b[1;33m\u001b[0m\u001b[1;33m\u001b[0m\u001b[1;33m\u001b[0m\u001b[0m\n\u001b[1;32m----> 2\u001b[1;33m \u001b[0mdf\u001b[0m \u001b[1;33m=\u001b[0m \u001b[0mpd\u001b[0m\u001b[1;33m.\u001b[0m\u001b[0mread_table\u001b[0m\u001b[1;33m(\u001b[0m\u001b[1;34m'xxxx.txt'\u001b[0m\u001b[1;33m)\u001b[0m\u001b[1;33m\u001b[0m\u001b[1;33m\u001b[0m\u001b[0m\n\u001b[0m\u001b[0;32m      3\u001b[0m \u001b[0mdf\u001b[0m\u001b[1;33m[\u001b[0m\u001b[1;34m\"Shape\"\u001b[0m\u001b[1;33m]\u001b[0m\u001b[1;33m.\u001b[0m\u001b[0mreplace\u001b[0m\u001b[1;33m(\u001b[0m\u001b[1;33m{\u001b[0m\u001b[1;36m1\u001b[0m\u001b[1;33m:\u001b[0m \u001b[1;34m\"rectangle\"\u001b[0m\u001b[1;33m,\u001b[0m \u001b[1;36m2\u001b[0m\u001b[1;33m:\u001b[0m \u001b[1;34m\"square\"\u001b[0m\u001b[1;33m,\u001b[0m \u001b[1;36m3\u001b[0m\u001b[1;33m:\u001b[0m\u001b[1;34m'circle'\u001b[0m\u001b[1;33m}\u001b[0m\u001b[1;33m,\u001b[0m \u001b[0minplace\u001b[0m\u001b[1;33m=\u001b[0m\u001b[1;32mTrue\u001b[0m\u001b[1;33m)\u001b[0m\u001b[1;33m\u001b[0m\u001b[1;33m\u001b[0m\u001b[0m\n\u001b[0;32m      4\u001b[0m \u001b[0mdf\u001b[0m\u001b[1;33m.\u001b[0m\u001b[0mhead\u001b[0m\u001b[1;33m(\u001b[0m\u001b[1;33m)\u001b[0m\u001b[1;33m\u001b[0m\u001b[1;33m\u001b[0m\u001b[0m\n",
      "\u001b[1;32m~\\anaconda3\\lib\\site-packages\\pandas\\io\\parsers.py\u001b[0m in \u001b[0;36mread_table\u001b[1;34m(filepath_or_buffer, sep, delimiter, header, names, index_col, usecols, squeeze, prefix, mangle_dupe_cols, dtype, engine, converters, true_values, false_values, skipinitialspace, skiprows, skipfooter, nrows, na_values, keep_default_na, na_filter, verbose, skip_blank_lines, parse_dates, infer_datetime_format, keep_date_col, date_parser, dayfirst, cache_dates, iterator, chunksize, compression, thousands, decimal, lineterminator, quotechar, quoting, doublequote, escapechar, comment, encoding, dialect, error_bad_lines, warn_bad_lines, delim_whitespace, low_memory, memory_map, float_precision)\u001b[0m\n\u001b[0;32m    687\u001b[0m     \u001b[0mkwds\u001b[0m\u001b[1;33m.\u001b[0m\u001b[0mupdate\u001b[0m\u001b[1;33m(\u001b[0m\u001b[0mkwds_defaults\u001b[0m\u001b[1;33m)\u001b[0m\u001b[1;33m\u001b[0m\u001b[1;33m\u001b[0m\u001b[0m\n\u001b[0;32m    688\u001b[0m \u001b[1;33m\u001b[0m\u001b[0m\n\u001b[1;32m--> 689\u001b[1;33m     \u001b[1;32mreturn\u001b[0m \u001b[0m_read\u001b[0m\u001b[1;33m(\u001b[0m\u001b[0mfilepath_or_buffer\u001b[0m\u001b[1;33m,\u001b[0m \u001b[0mkwds\u001b[0m\u001b[1;33m)\u001b[0m\u001b[1;33m\u001b[0m\u001b[1;33m\u001b[0m\u001b[0m\n\u001b[0m\u001b[0;32m    690\u001b[0m \u001b[1;33m\u001b[0m\u001b[0m\n\u001b[0;32m    691\u001b[0m \u001b[1;33m\u001b[0m\u001b[0m\n",
      "\u001b[1;32m~\\anaconda3\\lib\\site-packages\\pandas\\io\\parsers.py\u001b[0m in \u001b[0;36m_read\u001b[1;34m(filepath_or_buffer, kwds)\u001b[0m\n\u001b[0;32m    460\u001b[0m \u001b[1;33m\u001b[0m\u001b[0m\n\u001b[0;32m    461\u001b[0m     \u001b[1;31m# Create the parser.\u001b[0m\u001b[1;33m\u001b[0m\u001b[1;33m\u001b[0m\u001b[1;33m\u001b[0m\u001b[0m\n\u001b[1;32m--> 462\u001b[1;33m     \u001b[0mparser\u001b[0m \u001b[1;33m=\u001b[0m \u001b[0mTextFileReader\u001b[0m\u001b[1;33m(\u001b[0m\u001b[0mfilepath_or_buffer\u001b[0m\u001b[1;33m,\u001b[0m \u001b[1;33m**\u001b[0m\u001b[0mkwds\u001b[0m\u001b[1;33m)\u001b[0m\u001b[1;33m\u001b[0m\u001b[1;33m\u001b[0m\u001b[0m\n\u001b[0m\u001b[0;32m    463\u001b[0m \u001b[1;33m\u001b[0m\u001b[0m\n\u001b[0;32m    464\u001b[0m     \u001b[1;32mif\u001b[0m \u001b[0mchunksize\u001b[0m \u001b[1;32mor\u001b[0m \u001b[0miterator\u001b[0m\u001b[1;33m:\u001b[0m\u001b[1;33m\u001b[0m\u001b[1;33m\u001b[0m\u001b[0m\n",
      "\u001b[1;32m~\\anaconda3\\lib\\site-packages\\pandas\\io\\parsers.py\u001b[0m in \u001b[0;36m__init__\u001b[1;34m(self, f, engine, **kwds)\u001b[0m\n\u001b[0;32m    817\u001b[0m             \u001b[0mself\u001b[0m\u001b[1;33m.\u001b[0m\u001b[0moptions\u001b[0m\u001b[1;33m[\u001b[0m\u001b[1;34m\"has_index_names\"\u001b[0m\u001b[1;33m]\u001b[0m \u001b[1;33m=\u001b[0m \u001b[0mkwds\u001b[0m\u001b[1;33m[\u001b[0m\u001b[1;34m\"has_index_names\"\u001b[0m\u001b[1;33m]\u001b[0m\u001b[1;33m\u001b[0m\u001b[1;33m\u001b[0m\u001b[0m\n\u001b[0;32m    818\u001b[0m \u001b[1;33m\u001b[0m\u001b[0m\n\u001b[1;32m--> 819\u001b[1;33m         \u001b[0mself\u001b[0m\u001b[1;33m.\u001b[0m\u001b[0m_engine\u001b[0m \u001b[1;33m=\u001b[0m \u001b[0mself\u001b[0m\u001b[1;33m.\u001b[0m\u001b[0m_make_engine\u001b[0m\u001b[1;33m(\u001b[0m\u001b[0mself\u001b[0m\u001b[1;33m.\u001b[0m\u001b[0mengine\u001b[0m\u001b[1;33m)\u001b[0m\u001b[1;33m\u001b[0m\u001b[1;33m\u001b[0m\u001b[0m\n\u001b[0m\u001b[0;32m    820\u001b[0m \u001b[1;33m\u001b[0m\u001b[0m\n\u001b[0;32m    821\u001b[0m     \u001b[1;32mdef\u001b[0m \u001b[0mclose\u001b[0m\u001b[1;33m(\u001b[0m\u001b[0mself\u001b[0m\u001b[1;33m)\u001b[0m\u001b[1;33m:\u001b[0m\u001b[1;33m\u001b[0m\u001b[1;33m\u001b[0m\u001b[0m\n",
      "\u001b[1;32m~\\anaconda3\\lib\\site-packages\\pandas\\io\\parsers.py\u001b[0m in \u001b[0;36m_make_engine\u001b[1;34m(self, engine)\u001b[0m\n\u001b[0;32m   1048\u001b[0m             )\n\u001b[0;32m   1049\u001b[0m         \u001b[1;31m# error: Too many arguments for \"ParserBase\"\u001b[0m\u001b[1;33m\u001b[0m\u001b[1;33m\u001b[0m\u001b[1;33m\u001b[0m\u001b[0m\n\u001b[1;32m-> 1050\u001b[1;33m         \u001b[1;32mreturn\u001b[0m \u001b[0mmapping\u001b[0m\u001b[1;33m[\u001b[0m\u001b[0mengine\u001b[0m\u001b[1;33m]\u001b[0m\u001b[1;33m(\u001b[0m\u001b[0mself\u001b[0m\u001b[1;33m.\u001b[0m\u001b[0mf\u001b[0m\u001b[1;33m,\u001b[0m \u001b[1;33m**\u001b[0m\u001b[0mself\u001b[0m\u001b[1;33m.\u001b[0m\u001b[0moptions\u001b[0m\u001b[1;33m)\u001b[0m  \u001b[1;31m# type: ignore[call-arg]\u001b[0m\u001b[1;33m\u001b[0m\u001b[1;33m\u001b[0m\u001b[0m\n\u001b[0m\u001b[0;32m   1051\u001b[0m \u001b[1;33m\u001b[0m\u001b[0m\n\u001b[0;32m   1052\u001b[0m     \u001b[1;32mdef\u001b[0m \u001b[0m_failover_to_python\u001b[0m\u001b[1;33m(\u001b[0m\u001b[0mself\u001b[0m\u001b[1;33m)\u001b[0m\u001b[1;33m:\u001b[0m\u001b[1;33m\u001b[0m\u001b[1;33m\u001b[0m\u001b[0m\n",
      "\u001b[1;32m~\\anaconda3\\lib\\site-packages\\pandas\\io\\parsers.py\u001b[0m in \u001b[0;36m__init__\u001b[1;34m(self, src, **kwds)\u001b[0m\n\u001b[0;32m   1865\u001b[0m \u001b[1;33m\u001b[0m\u001b[0m\n\u001b[0;32m   1866\u001b[0m         \u001b[1;31m# open handles\u001b[0m\u001b[1;33m\u001b[0m\u001b[1;33m\u001b[0m\u001b[1;33m\u001b[0m\u001b[0m\n\u001b[1;32m-> 1867\u001b[1;33m         \u001b[0mself\u001b[0m\u001b[1;33m.\u001b[0m\u001b[0m_open_handles\u001b[0m\u001b[1;33m(\u001b[0m\u001b[0msrc\u001b[0m\u001b[1;33m,\u001b[0m \u001b[0mkwds\u001b[0m\u001b[1;33m)\u001b[0m\u001b[1;33m\u001b[0m\u001b[1;33m\u001b[0m\u001b[0m\n\u001b[0m\u001b[0;32m   1868\u001b[0m         \u001b[1;32massert\u001b[0m \u001b[0mself\u001b[0m\u001b[1;33m.\u001b[0m\u001b[0mhandles\u001b[0m \u001b[1;32mis\u001b[0m \u001b[1;32mnot\u001b[0m \u001b[1;32mNone\u001b[0m\u001b[1;33m\u001b[0m\u001b[1;33m\u001b[0m\u001b[0m\n\u001b[0;32m   1869\u001b[0m         \u001b[1;32mfor\u001b[0m \u001b[0mkey\u001b[0m \u001b[1;32min\u001b[0m \u001b[1;33m(\u001b[0m\u001b[1;34m\"storage_options\"\u001b[0m\u001b[1;33m,\u001b[0m \u001b[1;34m\"encoding\"\u001b[0m\u001b[1;33m,\u001b[0m \u001b[1;34m\"memory_map\"\u001b[0m\u001b[1;33m,\u001b[0m \u001b[1;34m\"compression\"\u001b[0m\u001b[1;33m)\u001b[0m\u001b[1;33m:\u001b[0m\u001b[1;33m\u001b[0m\u001b[1;33m\u001b[0m\u001b[0m\n",
      "\u001b[1;32m~\\anaconda3\\lib\\site-packages\\pandas\\io\\parsers.py\u001b[0m in \u001b[0;36m_open_handles\u001b[1;34m(self, src, kwds)\u001b[0m\n\u001b[0;32m   1360\u001b[0m         \u001b[0mLet\u001b[0m \u001b[0mthe\u001b[0m \u001b[0mreaders\u001b[0m \u001b[0mopen\u001b[0m \u001b[0mIOHanldes\u001b[0m \u001b[0mafter\u001b[0m \u001b[0mthey\u001b[0m \u001b[0mare\u001b[0m \u001b[0mdone\u001b[0m \u001b[1;32mwith\u001b[0m \u001b[0mtheir\u001b[0m \u001b[0mpotential\u001b[0m \u001b[0mraises\u001b[0m\u001b[1;33m.\u001b[0m\u001b[1;33m\u001b[0m\u001b[1;33m\u001b[0m\u001b[0m\n\u001b[0;32m   1361\u001b[0m         \"\"\"\n\u001b[1;32m-> 1362\u001b[1;33m         self.handles = get_handle(\n\u001b[0m\u001b[0;32m   1363\u001b[0m             \u001b[0msrc\u001b[0m\u001b[1;33m,\u001b[0m\u001b[1;33m\u001b[0m\u001b[1;33m\u001b[0m\u001b[0m\n\u001b[0;32m   1364\u001b[0m             \u001b[1;34m\"r\"\u001b[0m\u001b[1;33m,\u001b[0m\u001b[1;33m\u001b[0m\u001b[1;33m\u001b[0m\u001b[0m\n",
      "\u001b[1;32m~\\anaconda3\\lib\\site-packages\\pandas\\io\\common.py\u001b[0m in \u001b[0;36mget_handle\u001b[1;34m(path_or_buf, mode, encoding, compression, memory_map, is_text, errors, storage_options)\u001b[0m\n\u001b[0;32m    640\u001b[0m                 \u001b[0merrors\u001b[0m \u001b[1;33m=\u001b[0m \u001b[1;34m\"replace\"\u001b[0m\u001b[1;33m\u001b[0m\u001b[1;33m\u001b[0m\u001b[0m\n\u001b[0;32m    641\u001b[0m             \u001b[1;31m# Encoding\u001b[0m\u001b[1;33m\u001b[0m\u001b[1;33m\u001b[0m\u001b[1;33m\u001b[0m\u001b[0m\n\u001b[1;32m--> 642\u001b[1;33m             handle = open(\n\u001b[0m\u001b[0;32m    643\u001b[0m                 \u001b[0mhandle\u001b[0m\u001b[1;33m,\u001b[0m\u001b[1;33m\u001b[0m\u001b[1;33m\u001b[0m\u001b[0m\n\u001b[0;32m    644\u001b[0m                 \u001b[0mioargs\u001b[0m\u001b[1;33m.\u001b[0m\u001b[0mmode\u001b[0m\u001b[1;33m,\u001b[0m\u001b[1;33m\u001b[0m\u001b[1;33m\u001b[0m\u001b[0m\n",
      "\u001b[1;31mFileNotFoundError\u001b[0m: [Errno 2] No such file or directory: 'xxxx.txt'"
     ]
    }
   ],
   "source": [
    "#Importar base de datos\n",
    "df = pd.read_table('xxxx.txt')\n",
    "df[\"Shape\"].replace({1: \"rectangle\", 2: \"square\", 3:'circle'}, inplace=True)\n",
    "df.head()"
   ]
  },
  {
   "cell_type": "code",
   "execution_count": 20,
   "metadata": {
    "code_folding": [
     0
    ]
   },
   "outputs": [
    {
     "ename": "NameError",
     "evalue": "name 'df' is not defined",
     "output_type": "error",
     "traceback": [
      "\u001b[1;31m---------------------------------------------------------------------------\u001b[0m",
      "\u001b[1;31mNameError\u001b[0m                                 Traceback (most recent call last)",
      "\u001b[1;32m<ipython-input-20-dd2ad34fa0c6>\u001b[0m in \u001b[0;36m<module>\u001b[1;34m\u001b[0m\n\u001b[0;32m      5\u001b[0m \u001b[1;33m\u001b[0m\u001b[0m\n\u001b[0;32m      6\u001b[0m \u001b[1;31m#axs[0, 0].grid()\u001b[0m\u001b[1;33m\u001b[0m\u001b[1;33m\u001b[0m\u001b[1;33m\u001b[0m\u001b[0m\n\u001b[1;32m----> 7\u001b[1;33m \u001b[0maxs\u001b[0m\u001b[1;33m[\u001b[0m\u001b[1;36m0\u001b[0m\u001b[1;33m,\u001b[0m \u001b[1;36m0\u001b[0m\u001b[1;33m]\u001b[0m\u001b[1;33m.\u001b[0m\u001b[0mscatter\u001b[0m\u001b[1;33m(\u001b[0m\u001b[0mdf\u001b[0m\u001b[1;33m[\u001b[0m\u001b[1;34m'gs [kN/m3]'\u001b[0m\u001b[1;33m]\u001b[0m\u001b[1;33m,\u001b[0m \u001b[0mdf\u001b[0m\u001b[1;33m[\u001b[0m\u001b[1;34m'qum [kPa]'\u001b[0m\u001b[1;33m]\u001b[0m\u001b[1;33m,\u001b[0m \u001b[0ms\u001b[0m \u001b[1;33m=\u001b[0m \u001b[1;36m10\u001b[0m\u001b[1;33m,\u001b[0m \u001b[0mc\u001b[0m \u001b[1;33m=\u001b[0m \u001b[1;34m'orange'\u001b[0m\u001b[1;33m)\u001b[0m\u001b[1;33m\u001b[0m\u001b[1;33m\u001b[0m\u001b[0m\n\u001b[0m\u001b[0;32m      8\u001b[0m \u001b[0maxs\u001b[0m\u001b[1;33m[\u001b[0m\u001b[1;36m0\u001b[0m\u001b[1;33m,\u001b[0m \u001b[1;36m0\u001b[0m\u001b[1;33m]\u001b[0m\u001b[1;33m.\u001b[0m\u001b[0mset\u001b[0m\u001b[1;33m(\u001b[0m\u001b[0mylabel\u001b[0m \u001b[1;33m=\u001b[0m \u001b[1;34m'qum [kPa]'\u001b[0m\u001b[1;33m)\u001b[0m\u001b[1;33m\u001b[0m\u001b[1;33m\u001b[0m\u001b[0m\n\u001b[0;32m      9\u001b[0m \u001b[1;33m\u001b[0m\u001b[0m\n",
      "\u001b[1;31mNameError\u001b[0m: name 'df' is not defined"
     ]
    },
    {
     "data": {
      "image/png": "[encoded data removed]",
      "text/plain": [
       "<Figure size 1440x1080 with 16 Axes>"
      ]
     },
     "metadata": {
      "needs_background": "light"
     },
     "output_type": "display_data"
    }
   ],
   "source": [
    "# histograms\n",
    "fig, axs = plt.subplots(4, 4)\n",
    "fig.set_figheight(15)\n",
    "fig.set_figwidth(20)\n",
    "\n",
    "#axs[0, 0].grid()\n",
    "axs[0, 0].scatter(df['gs [kN/m3]'], df['qum [kPa]'], s = 10, c = 'orange')\n",
    "axs[0, 0].set(ylabel = 'qum [kPa]')\n",
    "\n",
    "#axs[0, 1].grid()\n",
    "axs[0, 1].scatter(df['c [kPa]'], df['qum [kPa]'], s = 10, c = 'orange')\n",
    "\n",
    "#axs[0, 2].grid()\n",
    "axs[0, 2].scatter(df['phi [deg]'], df['qum [kPa]'], s = 10, c = 'orange')\n",
    "\n",
    "#axs[0, 3].grid()\n",
    "axs[0, 3].hist(df['qum [kPa]'])\n",
    "\n",
    "#axs[1, 0].grid()\n",
    "axs[1, 0].scatter(df['gs [kN/m3]'], df['phi [deg]'], s = 10, c = 'orange')\n",
    "axs[1, 0].set(ylabel = '$\\phi [deg]$')\n",
    "\n",
    "#axs[1, 1].grid()\n",
    "axs[1, 1].scatter(df['c [kPa]'], df['phi [deg]'], s = 10, c = 'orange')\n",
    "\n",
    "#axs[1, 2].grid()\n",
    "axs[1, 2].hist(df['phi [deg]'])\n",
    "\n",
    "#axs[1, 3].grid()\n",
    "axs[1, 3].scatter(df['qum [kPa]'], df['phi [deg]'], s = 10, c = 'orange')\n",
    "\n",
    "#axs[2, 0].grid()\n",
    "axs[2, 0].scatter(df['gs [kN/m3]'], df['c [kPa]'], s = 10, c = 'orange')\n",
    "axs[2, 0].set(ylabel = 'c [kPa]')\n",
    "\n",
    "#axs[2, 1].grid()\n",
    "axs[2, 1].hist(df['c [kPa]'])\n",
    "\n",
    "#axs[2, 2].grid()\n",
    "axs[2, 2].scatter(df['phi [deg]'], df['c [kPa]'], s = 10, c = 'orange')\n",
    "\n",
    "#axs[2, 3].grid()\n",
    "axs[2, 3].scatter(df['qum [kPa]'], df['c [kPa]'], s = 10, c = 'orange')\n",
    "\n",
    "#axs[3, 0].grid()\n",
    "axs[3, 0].hist(df['gs [kN/m3]'])\n",
    "axs[3, 0].set(xlabel = 'gs [kN/m3]', ylabel = 'gs [kN/m3]')\n",
    "\n",
    "#axs[3, 1].grid()\n",
    "axs[3, 1].scatter(df['c [kPa]'], df['gs [kN/m3]'], s = 10, c = 'orange')\n",
    "axs[3, 1].set(xlabel = 'c [kPa]')\n",
    "\n",
    "#axs[3, 2].grid()\n",
    "axs[3, 2].scatter(df['phi [deg]'], df['gs [kN/m3]'], s = 10, c = 'orange')\n",
    "axs[3, 2].set(xlabel = '$\\phi [deg]$')\n",
    "\n",
    "#axs[3, 3].grid()\n",
    "axs[3, 3].scatter(df['qum [kPa]'], df['gs [kN/m3]'], s = 10, c = 'orange')\n",
    "axs[3, 3].set(xlabel = 'qum [kPa]')\n",
    "\n",
    "for ax in axs.flat:\n",
    "    ax.label_outer()\n",
    "\n",
    "plt.show()"
   ]
  },
  {
   "cell_type": "code",
   "execution_count": null,
   "metadata": {
    "code_folding": [
     0
    ]
   },
   "outputs": [],
   "source": [
    "# histograms\n",
    "fig, axs = plt.subplots(4, 4)\n",
    "fig.set_figheight(15)\n",
    "fig.set_figwidth(20)\n",
    "\n",
    "#axs[0, 0].grid()\n",
    "axs[0, 0].scatter(df['B (m)'], df['qum [kPa]'], s = 10, c = 'orange')\n",
    "axs[0, 0].set(ylabel = 'qum [kPa]')\n",
    "\n",
    "#axs[0, 1].grid()\n",
    "axs[0, 1].scatter(df['L (m)'], df['qum [kPa]'], s = 10, c = 'orange')\n",
    "\n",
    "#axs[0, 2].grid()\n",
    "axs[0, 2].scatter(df['D (m)'], df['qum [kPa]'], s = 10, c = 'orange')\n",
    "\n",
    "#axs[0, 3].grid()\n",
    "axs[0, 3].hist(df['qum [kPa]'])\n",
    "\n",
    "#axs[1, 0].grid()\n",
    "axs[1, 0].scatter(df['B (m)'], df['D (m)'], s = 10, c = 'orange')\n",
    "axs[1, 0].set(ylabel = 'D [m]')\n",
    "\n",
    "#axs[1, 1].grid()\n",
    "axs[1, 1].scatter(df['L (m)'], df['D (m)'], s = 10, c = 'orange')\n",
    "\n",
    "#axs[1, 2].grid()\n",
    "axs[1, 2].hist(df['D (m)'])\n",
    "\n",
    "#axs[1, 3].grid()\n",
    "axs[1, 3].scatter(df['qum [kPa]'], df['D (m)'], s = 10, c = 'orange')\n",
    "\n",
    "#axs[2, 0].grid()\n",
    "axs[2, 0].scatter(df['B (m)'], df['L (m)'], s = 10, c = 'orange')\n",
    "axs[2, 0].set(ylabel = 'L [m]')\n",
    "\n",
    "#axs[2, 1].grid()\n",
    "axs[2, 1].hist(df['L (m)'])\n",
    "\n",
    "#axs[2, 2].grid()\n",
    "axs[2, 2].scatter(df['D (m)'], df['L (m)'], s = 10, c = 'orange')\n",
    "\n",
    "#axs[2, 3].grid()\n",
    "axs[2, 3].scatter(df['qum [kPa]'], df['L (m)'], s = 10, c = 'orange')\n",
    "\n",
    "#axs[3, 0].grid()\n",
    "axs[3, 0].hist(df['B (m)'])\n",
    "axs[3, 0].set(xlabel = 'B [m]', ylabel = 'B [m]')\n",
    "\n",
    "#axs[3, 1].grid()\n",
    "axs[3, 1].scatter(df['L (m)'], df['B (m)'], s = 10, c = 'orange')\n",
    "axs[3, 1].set(xlabel = 'L [m]')\n",
    "\n",
    "#axs[3, 2].grid()\n",
    "axs[3, 2].scatter(df['D (m)'], df['B (m)'], s = 10, c = 'orange')\n",
    "axs[3, 2].set(xlabel = 'D [m]')\n",
    "\n",
    "#axs[3, 3].grid()\n",
    "axs[3, 3].scatter(df['qum [kPa]'], df['B (m)'], s = 10, c = 'orange')\n",
    "axs[3, 3].set(xlabel = 'qum [kPa]')\n",
    "\n",
    "for ax in axs.flat:\n",
    "    ax.label_outer()\n",
    "\n",
    "plt.show()"
   ]
  },
  {
   "cell_type": "markdown",
   "metadata": {},
   "source": [
    "## BIAS de resistencia"
   ]
  },
  {
   "cell_type": "code",
   "execution_count": null,
   "metadata": {},
   "outputs": [],
   "source": [
    "M = []\n",
    "phi_lim = 36\n",
    "COV = 0.5\n",
    "\n",
    "df['phi caract'] = df['phi [deg]'] * (1 - 0.84 * COV)\n",
    "df['phi'] = df.apply(lambda x: np.min([x['phi caract'], phi_lim]), axis=1)\n",
    "df['gamma_g'] = df.apply(lambda x: gamma_g(x['B (m)'], x['D (m)'], x['NF [m]'], x['gs [kN/m3]']), axis=1)\n",
    "df['gamma_q'] = df.apply(lambda x: gamma_q(x['D (m)'], x['NF [m]'], x['gs [kN/m3]']), axis=1)"
   ]
  },
  {
   "cell_type": "code",
   "execution_count": 21,
   "metadata": {},
   "outputs": [
    {
     "ename": "NameError",
     "evalue": "name 'df' is not defined",
     "output_type": "error",
     "traceback": [
      "\u001b[1;31m---------------------------------------------------------------------------\u001b[0m",
      "\u001b[1;31mNameError\u001b[0m                                 Traceback (most recent call last)",
      "\u001b[1;32m<ipython-input-21-7e147ee0b717>\u001b[0m in \u001b[0;36m<module>\u001b[1;34m\u001b[0m\n\u001b[1;32m----> 1\u001b[1;33m df['qu_c [kPa]'] = df.apply(lambda x: Bearing_Capacity(x['gamma_g'], x['gamma_q'], x['phi'],\n\u001b[0m\u001b[0;32m      2\u001b[0m                                                         \u001b[0mx\u001b[0m\u001b[1;33m[\u001b[0m\u001b[1;34m'c [kPa]'\u001b[0m\u001b[1;33m]\u001b[0m\u001b[1;33m,\u001b[0m \u001b[0mx\u001b[0m\u001b[1;33m[\u001b[0m\u001b[1;34m'B (m)'\u001b[0m\u001b[1;33m]\u001b[0m\u001b[1;33m,\u001b[0m \u001b[0mx\u001b[0m\u001b[1;33m[\u001b[0m\u001b[1;34m'L (m)'\u001b[0m\u001b[1;33m]\u001b[0m\u001b[1;33m,\u001b[0m\u001b[1;33m\u001b[0m\u001b[1;33m\u001b[0m\u001b[0m\n\u001b[0;32m      3\u001b[0m                                                         x['D (m)'], 0, x['Shape'], 'hansen'), axis=1)\n\u001b[0;32m      4\u001b[0m \u001b[0mdf\u001b[0m\u001b[1;33m[\u001b[0m\u001b[1;34m'M'\u001b[0m\u001b[1;33m]\u001b[0m \u001b[1;33m=\u001b[0m \u001b[0mdf\u001b[0m\u001b[1;33m[\u001b[0m\u001b[1;34m'qum [kPa]'\u001b[0m\u001b[1;33m]\u001b[0m \u001b[1;33m/\u001b[0m \u001b[0mdf\u001b[0m\u001b[1;33m[\u001b[0m\u001b[1;34m'qu_c [kPa]'\u001b[0m\u001b[1;33m]\u001b[0m\u001b[1;33m\u001b[0m\u001b[1;33m\u001b[0m\u001b[0m\n",
      "\u001b[1;31mNameError\u001b[0m: name 'df' is not defined"
     ]
    }
   ],
   "source": [
    "df['qu_c [kPa]'] = df.apply(lambda x: Bearing_Capacity(x['gamma_g'], x['gamma_q'], x['phi'],\n",
    "                                                        x['c [kPa]'], x['B (m)'], x['L (m)'],\n",
    "                                                        x['D (m)'], 0, x['Shape'], 'hansen'), axis=1)\n",
    "df['M'] = df['qum [kPa]'] / df['qu_c [kPa]']"
   ]
  },
  {
   "cell_type": "code",
   "execution_count": 22,
   "metadata": {},
   "outputs": [
    {
     "ename": "NameError",
     "evalue": "name 'df' is not defined",
     "output_type": "error",
     "traceback": [
      "\u001b[1;31m---------------------------------------------------------------------------\u001b[0m",
      "\u001b[1;31mNameError\u001b[0m                                 Traceback (most recent call last)",
      "\u001b[1;32m<ipython-input-22-c7605f5f8f4c>\u001b[0m in \u001b[0;36m<module>\u001b[1;34m\u001b[0m\n\u001b[1;32m----> 1\u001b[1;33m \u001b[0mM\u001b[0m \u001b[1;33m=\u001b[0m \u001b[0mdf\u001b[0m\u001b[1;33m[\u001b[0m\u001b[1;33m(\u001b[0m\u001b[0mdf\u001b[0m\u001b[1;33m[\u001b[0m\u001b[1;34m'phi [deg]'\u001b[0m\u001b[1;33m]\u001b[0m \u001b[1;33m>\u001b[0m \u001b[1;36m15\u001b[0m\u001b[1;33m)\u001b[0m \u001b[1;33m&\u001b[0m \u001b[1;33m(\u001b[0m\u001b[0mdf\u001b[0m\u001b[1;33m[\u001b[0m\u001b[1;34m'c [kPa]'\u001b[0m\u001b[1;33m]\u001b[0m\u001b[1;33m<=\u001b[0m\u001b[1;36m20\u001b[0m\u001b[1;33m)\u001b[0m \u001b[1;33m&\u001b[0m \u001b[1;33m(\u001b[0m\u001b[0mdf\u001b[0m\u001b[1;33m[\u001b[0m\u001b[1;34m'B (m)'\u001b[0m\u001b[1;33m]\u001b[0m\u001b[1;33m<=\u001b[0m\u001b[1;36m2\u001b[0m\u001b[1;33m)\u001b[0m \u001b[1;33m&\u001b[0m \u001b[1;33m(\u001b[0m\u001b[0mdf\u001b[0m\u001b[1;33m[\u001b[0m\u001b[1;34m'L (m)'\u001b[0m\u001b[1;33m]\u001b[0m\u001b[1;33m<=\u001b[0m\u001b[1;36m2\u001b[0m\u001b[1;33m)\u001b[0m \u001b[1;33m&\u001b[0m \u001b[1;33m(\u001b[0m\u001b[0mdf\u001b[0m\u001b[1;33m[\u001b[0m\u001b[1;34m'D (m)'\u001b[0m\u001b[1;33m]\u001b[0m\u001b[1;33m<=\u001b[0m\u001b[1;36m1\u001b[0m\u001b[1;33m)\u001b[0m\u001b[1;33m]\u001b[0m\u001b[1;33m[\u001b[0m\u001b[1;34m'M'\u001b[0m\u001b[1;33m]\u001b[0m\u001b[1;33m.\u001b[0m\u001b[0mto_numpy\u001b[0m\u001b[1;33m(\u001b[0m\u001b[1;33m)\u001b[0m\u001b[1;33m\u001b[0m\u001b[1;33m\u001b[0m\u001b[0m\n\u001b[0m\u001b[0;32m      2\u001b[0m \u001b[0mnf\u001b[0m \u001b[1;33m=\u001b[0m \u001b[0mnp\u001b[0m\u001b[1;33m.\u001b[0m\u001b[0msize\u001b[0m\u001b[1;33m(\u001b[0m\u001b[0mM\u001b[0m\u001b[1;33m)\u001b[0m\u001b[1;33m\u001b[0m\u001b[1;33m\u001b[0m\u001b[0m\n\u001b[0;32m      3\u001b[0m \u001b[0mprint\u001b[0m\u001b[1;33m(\u001b[0m\u001b[1;34m'Cantidad de ensayos:'\u001b[0m\u001b[1;33m,\u001b[0m \u001b[0mnf\u001b[0m\u001b[1;33m)\u001b[0m\u001b[1;33m\u001b[0m\u001b[1;33m\u001b[0m\u001b[0m\n",
      "\u001b[1;31mNameError\u001b[0m: name 'df' is not defined"
     ]
    }
   ],
   "source": [
    "M = df[(df['phi [deg]'] > 15) & (df['c [kPa]']<=20) & (df['B (m)']<=2) & (df['L (m)']<=2) & (df['D (m)']<=1)]['M'].to_numpy()\n",
    "nf = np.size(M)\n",
    "print('Cantidad de ensayos:', nf)"
   ]
  },
  {
   "cell_type": "code",
   "execution_count": 23,
   "metadata": {},
   "outputs": [
    {
     "ename": "NameError",
     "evalue": "name 'M' is not defined",
     "output_type": "error",
     "traceback": [
      "\u001b[1;31m---------------------------------------------------------------------------\u001b[0m",
      "\u001b[1;31mNameError\u001b[0m                                 Traceback (most recent call last)",
      "\u001b[1;32m<ipython-input-23-d1b0b7436646>\u001b[0m in \u001b[0;36m<module>\u001b[1;34m\u001b[0m\n\u001b[1;32m----> 1\u001b[1;33m \u001b[0mplt\u001b[0m\u001b[1;33m.\u001b[0m\u001b[0mhist\u001b[0m\u001b[1;33m(\u001b[0m\u001b[0mM\u001b[0m\u001b[1;33m,\u001b[0m \u001b[0malpha\u001b[0m \u001b[1;33m=\u001b[0m \u001b[1;36m1\u001b[0m\u001b[1;33m,\u001b[0m \u001b[0mdensity\u001b[0m \u001b[1;33m=\u001b[0m \u001b[1;32mTrue\u001b[0m\u001b[1;33m,\u001b[0m \u001b[0mbins\u001b[0m \u001b[1;33m=\u001b[0m \u001b[1;36m60\u001b[0m\u001b[1;33m)\u001b[0m\u001b[1;33m\u001b[0m\u001b[1;33m\u001b[0m\u001b[0m\n\u001b[0m\u001b[0;32m      2\u001b[0m \u001b[0mplt\u001b[0m\u001b[1;33m.\u001b[0m\u001b[0mxlim\u001b[0m\u001b[1;33m(\u001b[0m\u001b[1;36m0\u001b[0m\u001b[1;33m,\u001b[0m \u001b[1;36m20\u001b[0m\u001b[1;33m)\u001b[0m\u001b[1;33m\u001b[0m\u001b[1;33m\u001b[0m\u001b[0m\n\u001b[0;32m      3\u001b[0m \u001b[0mplt\u001b[0m\u001b[1;33m.\u001b[0m\u001b[0mxlabel\u001b[0m\u001b[1;33m(\u001b[0m\u001b[1;34m'Bias ($X_R$)'\u001b[0m\u001b[1;33m)\u001b[0m\u001b[1;33m\u001b[0m\u001b[1;33m\u001b[0m\u001b[0m\n\u001b[0;32m      4\u001b[0m \u001b[0mplt\u001b[0m\u001b[1;33m.\u001b[0m\u001b[0mshow\u001b[0m\u001b[1;33m(\u001b[0m\u001b[1;33m)\u001b[0m\u001b[1;33m;\u001b[0m\u001b[1;33m\u001b[0m\u001b[1;33m\u001b[0m\u001b[0m\n",
      "\u001b[1;31mNameError\u001b[0m: name 'M' is not defined"
     ]
    }
   ],
   "source": [
    "plt.hist(M, alpha = 1, density = True, bins = 60)\n",
    "plt.xlim(0, 20)\n",
    "plt.xlabel('Bias ($X_R$)')\n",
    "plt.show();"
   ]
  },
  {
   "cell_type": "code",
   "execution_count": 24,
   "metadata": {
    "code_folding": [
     0
    ]
   },
   "outputs": [
    {
     "ename": "NameError",
     "evalue": "name 'M' is not defined",
     "output_type": "error",
     "traceback": [
      "\u001b[1;31m---------------------------------------------------------------------------\u001b[0m",
      "\u001b[1;31mNameError\u001b[0m                                 Traceback (most recent call last)",
      "\u001b[1;32m<ipython-input-24-6d4e4c5bac60>\u001b[0m in \u001b[0;36m<module>\u001b[1;34m\u001b[0m\n\u001b[0;32m      2\u001b[0m \u001b[1;33m\u001b[0m\u001b[0m\n\u001b[0;32m      3\u001b[0m \u001b[1;31m#Fit Distribución Lognormal\u001b[0m\u001b[1;33m\u001b[0m\u001b[1;33m\u001b[0m\u001b[1;33m\u001b[0m\u001b[0m\n\u001b[1;32m----> 4\u001b[1;33m \u001b[0mdist_LN\u001b[0m \u001b[1;33m=\u001b[0m \u001b[0mlognorm\u001b[0m\u001b[1;33m.\u001b[0m\u001b[0mfit\u001b[0m\u001b[1;33m(\u001b[0m\u001b[0mM\u001b[0m\u001b[1;33m)\u001b[0m\u001b[1;33m\u001b[0m\u001b[1;33m\u001b[0m\u001b[0m\n\u001b[0m\u001b[0;32m      5\u001b[0m \u001b[0mx\u001b[0m \u001b[1;33m=\u001b[0m \u001b[0mnp\u001b[0m\u001b[1;33m.\u001b[0m\u001b[0mlinspace\u001b[0m\u001b[1;33m(\u001b[0m\u001b[1;36m0\u001b[0m\u001b[1;33m,\u001b[0m \u001b[1;36m100\u001b[0m\u001b[1;33m,\u001b[0m \u001b[1;36m100\u001b[0m\u001b[1;33m)\u001b[0m\u001b[1;33m\u001b[0m\u001b[1;33m\u001b[0m\u001b[0m\n\u001b[0;32m      6\u001b[0m \u001b[0mprint\u001b[0m\u001b[1;33m(\u001b[0m\u001b[0mdist_LN\u001b[0m\u001b[1;33m)\u001b[0m\u001b[1;33m\u001b[0m\u001b[1;33m\u001b[0m\u001b[0m\n",
      "\u001b[1;31mNameError\u001b[0m: name 'M' is not defined"
     ]
    }
   ],
   "source": [
    "#Ajuste de distribución\n",
    "\n",
    "#Fit Distribución Lognormal\n",
    "dist_LN = lognorm.fit(M)\n",
    "x = np.linspace(0, 100, 100)\n",
    "print(dist_LN)\n",
    "\n",
    "#Fit Distribución beta\n",
    "dist_beta = beta.fit(M)\n",
    "x = np.linspace(0, 100, 100)\n",
    "print(dist_beta)\n",
    "\n",
    "#Ploteo\n",
    "fig, (ax1, ax2) = plt.subplots(1, 2, figsize = (15, 5))\n",
    "\n",
    "#Ajuste Lognormal\n",
    "ax1.hist(M, alpha = 0.3, density = True, bins=60)\n",
    "param_LN = lognorm.pdf(x, dist_LN[0], dist_LN[1], dist_LN[2])\n",
    "ax1.plot(x, param_LN, 'b--', lw = 3)\n",
    "ax1.set_xlim(0, 30)\n",
    "ax1.set_xlabel('Bias ($X_R$)')\n",
    "ax1.set_title('Ajuste Lognormal (pdf) - Vesic (1975)')\n",
    "\n",
    "#Ajuste beta\n",
    "ax2.hist(M, alpha = 0.3, density = True, bins=60)\n",
    "param_beta = beta.pdf(x, dist_beta[0], dist_beta[1], dist_beta[2], dist_beta[3])\n",
    "ax2.plot(x, param_LN, 'b--', lw = 3)\n",
    "ax2.set_xlim(0, 30)\n",
    "ax2.set_xlabel('Bias ($X_R$)')\n",
    "ax2.set_title('Ajuste beta (pdf) - Vesic (1975)')\n",
    "\n",
    "plt.show()"
   ]
  },
  {
   "cell_type": "code",
   "execution_count": 25,
   "metadata": {
    "code_folding": [
     0
    ]
   },
   "outputs": [
    {
     "ename": "NameError",
     "evalue": "name 'M' is not defined",
     "output_type": "error",
     "traceback": [
      "\u001b[1;31m---------------------------------------------------------------------------\u001b[0m",
      "\u001b[1;31mNameError\u001b[0m                                 Traceback (most recent call last)",
      "\u001b[1;32m<ipython-input-25-e667f2b0f6ef>\u001b[0m in \u001b[0;36m<module>\u001b[1;34m\u001b[0m\n\u001b[0;32m      3\u001b[0m \u001b[1;33m\u001b[0m\u001b[0m\n\u001b[0;32m      4\u001b[0m \u001b[1;31m#Ajuste Lognormal\u001b[0m\u001b[1;33m\u001b[0m\u001b[1;33m\u001b[0m\u001b[1;33m\u001b[0m\u001b[0m\n\u001b[1;32m----> 5\u001b[1;33m \u001b[0max1\u001b[0m\u001b[1;33m.\u001b[0m\u001b[0mhist\u001b[0m\u001b[1;33m(\u001b[0m\u001b[0mM\u001b[0m\u001b[1;33m,\u001b[0m \u001b[0mbins\u001b[0m \u001b[1;33m=\u001b[0m \u001b[0mnf\u001b[0m\u001b[1;33m,\u001b[0m \u001b[0malpha\u001b[0m \u001b[1;33m=\u001b[0m \u001b[1;36m0.3\u001b[0m\u001b[1;33m,\u001b[0m \u001b[0mdensity\u001b[0m \u001b[1;33m=\u001b[0m \u001b[1;32mTrue\u001b[0m\u001b[1;33m,\u001b[0m \u001b[0mcumulative\u001b[0m \u001b[1;33m=\u001b[0m \u001b[1;36m1\u001b[0m\u001b[1;33m)\u001b[0m\u001b[1;33m\u001b[0m\u001b[1;33m\u001b[0m\u001b[0m\n\u001b[0m\u001b[0;32m      6\u001b[0m \u001b[0mparam_LN\u001b[0m \u001b[1;33m=\u001b[0m \u001b[0mlognorm\u001b[0m\u001b[1;33m.\u001b[0m\u001b[0mcdf\u001b[0m\u001b[1;33m(\u001b[0m\u001b[0mx\u001b[0m\u001b[1;33m,\u001b[0m \u001b[0mdist_LN\u001b[0m\u001b[1;33m[\u001b[0m\u001b[1;36m0\u001b[0m\u001b[1;33m]\u001b[0m\u001b[1;33m,\u001b[0m \u001b[0mdist_LN\u001b[0m\u001b[1;33m[\u001b[0m\u001b[1;36m1\u001b[0m\u001b[1;33m]\u001b[0m\u001b[1;33m,\u001b[0m \u001b[0mdist_LN\u001b[0m\u001b[1;33m[\u001b[0m\u001b[1;36m2\u001b[0m\u001b[1;33m]\u001b[0m\u001b[1;33m)\u001b[0m\u001b[1;33m\u001b[0m\u001b[1;33m\u001b[0m\u001b[0m\n\u001b[0;32m      7\u001b[0m \u001b[0max1\u001b[0m\u001b[1;33m.\u001b[0m\u001b[0mplot\u001b[0m\u001b[1;33m(\u001b[0m\u001b[0mx\u001b[0m\u001b[1;33m,\u001b[0m \u001b[0mparam_LN\u001b[0m\u001b[1;33m,\u001b[0m \u001b[1;34m'b--'\u001b[0m\u001b[1;33m,\u001b[0m \u001b[0mlw\u001b[0m \u001b[1;33m=\u001b[0m \u001b[1;36m3\u001b[0m\u001b[1;33m)\u001b[0m\u001b[1;33m\u001b[0m\u001b[1;33m\u001b[0m\u001b[0m\n",
      "\u001b[1;31mNameError\u001b[0m: name 'M' is not defined"
     ]
    },
    {
     "data": {
      "image/png": "[encoded data removed]",
      "text/plain": [
       "<Figure size 1080x360 with 2 Axes>"
      ]
     },
     "metadata": {
      "needs_background": "light"
     },
     "output_type": "display_data"
    }
   ],
   "source": [
    "#Ploteo funciones acumuladas\n",
    "fig, (ax1, ax2) = plt.subplots(1, 2, figsize = (15, 5))\n",
    "\n",
    "#Ajuste Lognormal\n",
    "ax1.hist(M, bins = nf, alpha = 0.3, density = True, cumulative = 1)\n",
    "param_LN = lognorm.cdf(x, dist_LN[0], dist_LN[1], dist_LN[2])\n",
    "ax1.plot(x, param_LN, 'b--', lw = 3)\n",
    "ax1.set_xlim(0, 30)\n",
    "ax1.set_xlabel('Bias ($X_R$)')\n",
    "ax1.set_title('Ajuste Lognormal (cdf) - Vesic (1975)')\n",
    "\n",
    "#Ajuste beta\n",
    "ax2.hist(M, bins = nf, alpha = 0.3, density = True, cumulative = 1)\n",
    "param_beta = beta.cdf(x, dist_beta[0], dist_beta[1], dist_beta[2], dist_beta[3])\n",
    "ax2.plot(x, param_beta, 'b--', lw = 3)\n",
    "ax2.set_xlim(0, 30)\n",
    "ax2.set_xlabel('Bias ($X_R$)')\n",
    "ax2.set_title('Ajuste beta (cdf) - Vesic (1975)')\n",
    "\n",
    "plt.show()"
   ]
  },
  {
   "cell_type": "code",
   "execution_count": 26,
   "metadata": {
    "code_folding": [
     0
    ]
   },
   "outputs": [
    {
     "ename": "NameError",
     "evalue": "name 'M' is not defined",
     "output_type": "error",
     "traceback": [
      "\u001b[1;31m---------------------------------------------------------------------------\u001b[0m",
      "\u001b[1;31mNameError\u001b[0m                                 Traceback (most recent call last)",
      "\u001b[1;32m<ipython-input-26-d6aee0a392ee>\u001b[0m in \u001b[0;36m<module>\u001b[1;34m\u001b[0m\n\u001b[0;32m      3\u001b[0m \u001b[1;33m\u001b[0m\u001b[0m\n\u001b[0;32m      4\u001b[0m \u001b[1;31m#Ajuste Lognormal\u001b[0m\u001b[1;33m\u001b[0m\u001b[1;33m\u001b[0m\u001b[1;33m\u001b[0m\u001b[0m\n\u001b[1;32m----> 5\u001b[1;33m \u001b[0max1\u001b[0m\u001b[1;33m.\u001b[0m\u001b[0mhist\u001b[0m\u001b[1;33m(\u001b[0m\u001b[0mM\u001b[0m\u001b[1;33m,\u001b[0m \u001b[0malpha\u001b[0m \u001b[1;33m=\u001b[0m \u001b[1;36m0.3\u001b[0m\u001b[1;33m,\u001b[0m \u001b[0mdensity\u001b[0m \u001b[1;33m=\u001b[0m \u001b[1;32mTrue\u001b[0m\u001b[1;33m,\u001b[0m \u001b[0mbins\u001b[0m \u001b[1;33m=\u001b[0m \u001b[1;36m80\u001b[0m\u001b[1;33m)\u001b[0m\u001b[1;33m\u001b[0m\u001b[1;33m\u001b[0m\u001b[0m\n\u001b[0m\u001b[0;32m      6\u001b[0m \u001b[0mparam_LN\u001b[0m \u001b[1;33m=\u001b[0m \u001b[0mlognorm\u001b[0m\u001b[1;33m.\u001b[0m\u001b[0mpdf\u001b[0m\u001b[1;33m(\u001b[0m\u001b[0mx\u001b[0m\u001b[1;33m,\u001b[0m \u001b[0mdist_LN\u001b[0m\u001b[1;33m[\u001b[0m\u001b[1;36m0\u001b[0m\u001b[1;33m]\u001b[0m\u001b[1;33m,\u001b[0m \u001b[0mdist_LN\u001b[0m\u001b[1;33m[\u001b[0m\u001b[1;36m1\u001b[0m\u001b[1;33m]\u001b[0m\u001b[1;33m,\u001b[0m \u001b[0mdist_LN\u001b[0m\u001b[1;33m[\u001b[0m\u001b[1;36m2\u001b[0m\u001b[1;33m]\u001b[0m\u001b[1;33m)\u001b[0m\u001b[1;33m\u001b[0m\u001b[1;33m\u001b[0m\u001b[0m\n\u001b[0;32m      7\u001b[0m \u001b[0max1\u001b[0m\u001b[1;33m.\u001b[0m\u001b[0mplot\u001b[0m\u001b[1;33m(\u001b[0m\u001b[0mx\u001b[0m\u001b[1;33m,\u001b[0m \u001b[0mparam_LN\u001b[0m\u001b[1;33m,\u001b[0m \u001b[1;34m'b--'\u001b[0m\u001b[1;33m,\u001b[0m \u001b[0mlw\u001b[0m \u001b[1;33m=\u001b[0m \u001b[1;36m3\u001b[0m\u001b[1;33m)\u001b[0m\u001b[1;33m\u001b[0m\u001b[1;33m\u001b[0m\u001b[0m\n",
      "\u001b[1;31mNameError\u001b[0m: name 'M' is not defined"
     ]
    },
    {
     "data": {
      "image/png": "[encoded data removed]",
      "text/plain": [
       "<Figure size 1080x360 with 2 Axes>"
      ]
     },
     "metadata": {
      "needs_background": "light"
     },
     "output_type": "display_data"
    }
   ],
   "source": [
    "#Ploteo\n",
    "fig, (ax1, ax2) = plt.subplots(1, 2, figsize = (15, 5))\n",
    "\n",
    "#Ajuste Lognormal\n",
    "ax1.hist(M, alpha = 0.3, density = True, bins = 80)\n",
    "param_LN = lognorm.pdf(x, dist_LN[0], dist_LN[1], dist_LN[2])\n",
    "ax1.plot(x, param_LN, 'b--', lw = 3)\n",
    "ax1.set_xlim(0, 20)\n",
    "ax1.set_xlabel('Bias ($X_R$)')\n",
    "ax1.set_title('Ajuste Lognormal (pdf) - Vesic (1975)')\n",
    "\n",
    "#Ajuste Lognormal\n",
    "ax2.hist(M, bins = nf, alpha = 0.3, density = True, cumulative = 1)\n",
    "param_LN = lognorm.cdf(x, dist_LN[0], dist_LN[1], dist_LN[2])\n",
    "ax2.plot(x, param_LN, 'b--', lw = 3)\n",
    "ax2.set_xlim(0, 20)\n",
    "ax2.set_xlabel('Bias ($X_R$)')\n",
    "ax2.set_title('Ajuste Lognormal (cdf) - Vesic (1975)')\n",
    "\n",
    "plt.show()"
   ]
  },
  {
   "cell_type": "markdown",
   "metadata": {},
   "source": [
    "### Test de bondad de ajuste (Kolmogorov-Smirnov)"
   ]
  },
  {
   "cell_type": "code",
   "execution_count": 27,
   "metadata": {},
   "outputs": [
    {
     "ename": "NameError",
     "evalue": "name 'M' is not defined",
     "output_type": "error",
     "traceback": [
      "\u001b[1;31m---------------------------------------------------------------------------\u001b[0m",
      "\u001b[1;31mNameError\u001b[0m                                 Traceback (most recent call last)",
      "\u001b[1;32m<ipython-input-27-bb4780ace3af>\u001b[0m in \u001b[0;36m<module>\u001b[1;34m\u001b[0m\n\u001b[1;32m----> 1\u001b[1;33m \u001b[0mstat\u001b[0m\u001b[1;33m,\u001b[0m \u001b[0mp\u001b[0m \u001b[1;33m=\u001b[0m \u001b[0mkstest\u001b[0m\u001b[1;33m(\u001b[0m\u001b[0mM\u001b[0m\u001b[1;33m,\u001b[0m \u001b[1;34m'lognorm'\u001b[0m\u001b[1;33m,\u001b[0m \u001b[0margs\u001b[0m \u001b[1;33m=\u001b[0m \u001b[0mdist_LN\u001b[0m\u001b[1;33m)\u001b[0m\u001b[1;33m\u001b[0m\u001b[1;33m\u001b[0m\u001b[0m\n\u001b[0m\u001b[0;32m      2\u001b[0m \u001b[0mprint\u001b[0m\u001b[1;33m(\u001b[0m\u001b[1;34m\"KS Test - Lognorm distribution:\"\u001b[0m\u001b[1;33m)\u001b[0m\u001b[1;33m\u001b[0m\u001b[1;33m\u001b[0m\u001b[0m\n\u001b[0;32m      3\u001b[0m \u001b[0mprint\u001b[0m\u001b[1;33m(\u001b[0m\u001b[1;34m\"stat    = %9.5f\"\u001b[0m \u001b[1;33m%\u001b[0m \u001b[0mstat\u001b[0m\u001b[1;33m)\u001b[0m\u001b[1;33m\u001b[0m\u001b[1;33m\u001b[0m\u001b[0m\n\u001b[0;32m      4\u001b[0m \u001b[0mprint\u001b[0m\u001b[1;33m(\u001b[0m\u001b[1;34m\"p-value = %9.5f\"\u001b[0m \u001b[1;33m%\u001b[0m \u001b[0mp\u001b[0m\u001b[1;33m)\u001b[0m\u001b[1;33m\u001b[0m\u001b[1;33m\u001b[0m\u001b[0m\n\u001b[0;32m      5\u001b[0m \u001b[1;33m\u001b[0m\u001b[0m\n",
      "\u001b[1;31mNameError\u001b[0m: name 'M' is not defined"
     ]
    }
   ],
   "source": [
    "stat, p = kstest(M, 'lognorm', args = dist_LN)\n",
    "print(\"KS Test - Lognorm distribution:\")\n",
    "print(\"stat    = %9.5f\" % stat)\n",
    "print(\"p-value = %9.5f\" % p)\n",
    "\n",
    "stat, p = kstest(M, 'beta', args = dist_beta)\n",
    "print(\"KS Test - Beta distribution:\")\n",
    "print(\"stat    = %9.5f\" % stat)\n",
    "print(\"p-value = %9.5f\" % p)"
   ]
  },
  {
   "cell_type": "markdown",
   "metadata": {},
   "source": [
    "## Calibracion de RF"
   ]
  },
  {
   "cell_type": "code",
   "execution_count": 28,
   "metadata": {},
   "outputs": [],
   "source": [
    "#Distribución probabilistica de los factores de carga\n",
    "\n",
    "#Carga permanente\n",
    "LF_D = 1.20\n",
    "mu_bias_LF_D = 1.05\n",
    "COV_bias_LF_D = 0.10\n",
    "sigma_bias_LF_D = COV_bias_LF_D * mu_bias_LF_D\n",
    "\n",
    "#Sobrecarga\n",
    "LF_L = 1.60\n",
    "mu_bias_LF_L = 1.00\n",
    "COV_bias_LF_L = 0.25\n",
    "sigma_bias_LF_L = COV_bias_LF_L * mu_bias_LF_L\n",
    "\n",
    "kappa = 3.0 #Relación entre carga permanente y sobrecarga"
   ]
  },
  {
   "cell_type": "code",
   "execution_count": 29,
   "metadata": {},
   "outputs": [
    {
     "name": "stderr",
     "output_type": "stream",
     "text": [
      "<ipython-input-29-40138d4933c6>:4: DeprecationWarning: `np.int` is a deprecated alias for the builtin `int`. To silence this warning, use `int` by itself. Doing this will not modify any behavior and is safe. When replacing `np.int`, you may wish to use e.g. `np.int64` or `np.int32` to specify the precision. If you wish to review your current use, check the release note link for additional information.\n",
      "Deprecated in NumPy 1.20; for more details and guidance: https://numpy.org/devdocs/release/1.20.0-notes.html#deprecations\n",
      "  n = np.int(np.round((1 - PF_obj) / ((Vp ** 2) * PF_obj), decimals = 0)) #Cantidad de simulaciones Monte Carlo\n"
     ]
    },
    {
     "data": {
      "text/plain": [
       "73974"
      ]
     },
     "execution_count": 29,
     "metadata": {},
     "output_type": "execute_result"
    }
   ],
   "source": [
    "#Seguridad probabilistica\n",
    "PF_obj = 0.00135 #Equivalente a un beta = 3\n",
    "Vp = 0.1 #Coeficiente de variación deseado del resultado de la simulación \n",
    "n = np.int(np.round((1 - PF_obj) / ((Vp ** 2) * PF_obj), decimals = 0)) #Cantidad de simulaciones Monte Carlo\n",
    "n"
   ]
  },
  {
   "cell_type": "code",
   "execution_count": 30,
   "metadata": {},
   "outputs": [],
   "source": [
    "#Funcion de falla\n",
    "def g(phi, bias_RF, bias_LF_D, bias_LF_L, kappa):\n",
    "    g = ((LF_D + LF_L * kappa) / phi) * bias_RF - (bias_LF_D + bias_LF_L * kappa)\n",
    "    return g"
   ]
  },
  {
   "cell_type": "code",
   "execution_count": 31,
   "metadata": {},
   "outputs": [
    {
     "ename": "NameError",
     "evalue": "name 'dist_LN' is not defined",
     "output_type": "error",
     "traceback": [
      "\u001b[1;31m---------------------------------------------------------------------------\u001b[0m",
      "\u001b[1;31mNameError\u001b[0m                                 Traceback (most recent call last)",
      "\u001b[1;32m<ipython-input-31-0a33439646fb>\u001b[0m in \u001b[0;36m<module>\u001b[1;34m\u001b[0m\n\u001b[0;32m     12\u001b[0m     \u001b[1;32melse\u001b[0m\u001b[1;33m:\u001b[0m\u001b[1;33m\u001b[0m\u001b[1;33m\u001b[0m\u001b[0m\n\u001b[0;32m     13\u001b[0m         \u001b[1;31m#bias_RF_rnd = stats.beta(dist_beta[0], dist_beta[1], loc = dist_beta[2], scale = dist_beta[3]).rvs(n)\u001b[0m\u001b[1;33m\u001b[0m\u001b[1;33m\u001b[0m\u001b[1;33m\u001b[0m\u001b[0m\n\u001b[1;32m---> 14\u001b[1;33m         \u001b[0mbias_RF_rnd\u001b[0m \u001b[1;33m=\u001b[0m \u001b[0mstats\u001b[0m\u001b[1;33m.\u001b[0m\u001b[0mlognorm\u001b[0m\u001b[1;33m(\u001b[0m\u001b[0mdist_LN\u001b[0m\u001b[1;33m[\u001b[0m\u001b[1;36m0\u001b[0m\u001b[1;33m]\u001b[0m\u001b[1;33m,\u001b[0m \u001b[0mloc\u001b[0m \u001b[1;33m=\u001b[0m \u001b[0mdist_LN\u001b[0m\u001b[1;33m[\u001b[0m\u001b[1;36m1\u001b[0m\u001b[1;33m]\u001b[0m\u001b[1;33m,\u001b[0m \u001b[0mscale\u001b[0m \u001b[1;33m=\u001b[0m \u001b[0mdist_LN\u001b[0m\u001b[1;33m[\u001b[0m\u001b[1;36m2\u001b[0m\u001b[1;33m]\u001b[0m\u001b[1;33m)\u001b[0m\u001b[1;33m.\u001b[0m\u001b[0mrvs\u001b[0m\u001b[1;33m(\u001b[0m\u001b[0mn\u001b[0m\u001b[1;33m)\u001b[0m\u001b[1;33m\u001b[0m\u001b[1;33m\u001b[0m\u001b[0m\n\u001b[0m\u001b[0;32m     15\u001b[0m         \u001b[0mbias_LF_D_rnd\u001b[0m \u001b[1;33m=\u001b[0m \u001b[0mnp\u001b[0m\u001b[1;33m.\u001b[0m\u001b[0mrandom\u001b[0m\u001b[1;33m.\u001b[0m\u001b[0mnormal\u001b[0m\u001b[1;33m(\u001b[0m\u001b[0mmu_bias_LF_D\u001b[0m\u001b[1;33m,\u001b[0m \u001b[0msigma_bias_LF_D\u001b[0m\u001b[1;33m,\u001b[0m \u001b[0mn\u001b[0m\u001b[1;33m)\u001b[0m\u001b[1;33m\u001b[0m\u001b[1;33m\u001b[0m\u001b[0m\n\u001b[0;32m     16\u001b[0m         \u001b[0mbias_LF_L_rnd\u001b[0m \u001b[1;33m=\u001b[0m \u001b[0mnp\u001b[0m\u001b[1;33m.\u001b[0m\u001b[0mrandom\u001b[0m\u001b[1;33m.\u001b[0m\u001b[0mgumbel\u001b[0m\u001b[1;33m(\u001b[0m\u001b[0mmu_bias_LF_L\u001b[0m\u001b[1;33m,\u001b[0m \u001b[0msigma_bias_LF_L\u001b[0m\u001b[1;33m,\u001b[0m \u001b[0mn\u001b[0m\u001b[1;33m)\u001b[0m\u001b[1;33m\u001b[0m\u001b[1;33m\u001b[0m\u001b[0m\n",
      "\u001b[1;31mNameError\u001b[0m: name 'dist_LN' is not defined"
     ]
    }
   ],
   "source": [
    "tol = 0.1\n",
    "\n",
    "PF = 1; RF = 0.0; d_RF = 0.01\n",
    "\n",
    "while np.abs(1 - PF/PF_obj) > tol:\n",
    "    RF = RF + d_RF\n",
    "\n",
    "    if RF > 1:\n",
    "        d_RF = d_RF / 2\n",
    "        PF = 1\n",
    "        RF = 0\n",
    "    else:\n",
    "        #bias_RF_rnd = stats.beta(dist_beta[0], dist_beta[1], loc = dist_beta[2], scale = dist_beta[3]).rvs(n)\n",
    "        bias_RF_rnd = stats.lognorm(dist_LN[0], loc = dist_LN[1], scale = dist_LN[2]).rvs(n)\n",
    "        bias_LF_D_rnd = np.random.normal(mu_bias_LF_D, sigma_bias_LF_D, n)\n",
    "        bias_LF_L_rnd = np.random.gumbel(mu_bias_LF_L, sigma_bias_LF_L, n)\n",
    "        gi = g(RF, bias_RF_rnd, bias_LF_D_rnd, bias_LF_L_rnd, kappa)\n",
    "    \n",
    "        cont = 0\n",
    "        for i in range(n):\n",
    "            if gi[i] < 0:\n",
    "                cont = cont + 1\n",
    "    \n",
    "        PF = cont / n\n",
    "\n",
    "#Ploteo de resultados\n",
    "x_axis = np.arange(-4, 10, 0.01)\n",
    "mean = np.mean(gi)\n",
    "sd = np.std(gi)\n",
    "\n",
    "#plt.plot(x_axis, norm.pdf(x_axis, mean, sd), 'r-', lw=5, alpha=0.8)\n",
    "plt.hist(gi, bins = 1000, density=True, histtype='stepfilled', alpha=1)\n",
    "plt.xlim(-10, 200)\n",
    "\n",
    "plt.xlabel('$g(X_R, X_Q)$')\n",
    "\n",
    "print('RF =', RF)"
   ]
  }
 ],
 "metadata": {
  "hide_input": false,
  "interpreter": {
   "hash": "b3ba2566441a7c06988d0923437866b63cedc61552a5af99d1f4fb67d367b25f"
  },
  "kernelspec": {
   "display_name": "Python 3",
   "language": "python",
   "name": "python3"
  },
  "language_info": {
   "codemirror_mode": {
    "name": "ipython",
    "version": 3
   },
   "file_extension": ".py",
   "mimetype": "text/x-python",
   "name": "python",
   "nbconvert_exporter": "python",
   "pygments_lexer": "ipython3",
   "version": "3.8.8"
  },
  "toc": {
   "base_numbering": 1,
   "nav_menu": {},
   "number_sections": true,
   "sideBar": true,
   "skip_h1_title": false,
   "title_cell": "Table of Contents",
   "title_sidebar": "Contents",
   "toc_cell": false,
   "toc_position": {},
   "toc_section_display": true,
   "toc_window_display": false
  },
  "varInspector": {
   "cols": {
    "lenName": 16,
    "lenType": 16,
    "lenVar": 40
   },
   "kernels_config": {
    "python": {
     "delete_cmd_postfix": "",
     "delete_cmd_prefix": "del ",
     "library": "var_list.py",
     "varRefreshCmd": "print(var_dic_list())"
    },
    "r": {
     "delete_cmd_postfix": ") ",
     "delete_cmd_prefix": "rm(",
     "library": "var_list.r",
     "varRefreshCmd": "cat(var_dic_list()) "
    }
   },
   "types_to_exclude": [
    "module",
    "function",
    "builtin_function_or_method",
    "instance",
    "_Feature"
   ],
   "window_display": false
  }
 },
 "nbformat": 4,
 "nbformat_minor": 2
}
